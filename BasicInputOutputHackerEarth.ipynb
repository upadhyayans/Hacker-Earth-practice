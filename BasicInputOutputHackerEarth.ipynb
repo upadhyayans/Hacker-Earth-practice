{
 "cells": [
  {
   "cell_type": "code",
   "execution_count": 5,
   "metadata": {},
   "outputs": [
    {
     "name": "stdin",
     "output_type": "stream",
     "text": [
      " 2\n",
      " 18\n",
      " 40\n"
     ]
    },
    {
     "name": "stdout",
     "output_type": "stream",
     "text": [
      "19  WS\n",
      "45  AS\n"
     ]
    }
   ],
   "source": [
    "#Seating Arrangement\n",
    "\n",
    "N = int(input())\n",
    "ls=[int(input()) for a in range(N)]\n",
    "\n",
    "for M in ls:\n",
    "    a = M//6\n",
    "                            #Window\n",
    "    if M%6==1:\n",
    "        if a%2==0:\n",
    "            print(M+11,' WS')\n",
    "        else:\n",
    "            print(M-1,' WS')\n",
    "    if M%6==0:\n",
    "        if a%2==0:\n",
    "            print(M-11,' WS')\n",
    "        else:\n",
    "            print(M+1,' WS')\n",
    "\n",
    "                                #Middle\n",
    "    if M%6==2:\n",
    "        if a%2!=0:\n",
    "            print(M-3,' MS')\n",
    "        else:\n",
    "            print(M+9,' MS')\n",
    "    if M%6==5:\n",
    "        if a%2!=0:\n",
    "            print(M-9,' MS')\n",
    "        else:\n",
    "            print(M+3,' MS')    \n",
    "\n",
    "                                #Lower\n",
    "    if M%6==3:\n",
    "        if a%2!=0:\n",
    "            print(M-5,' AS')\n",
    "        else:\n",
    "            print(M+7,' AS')\n",
    "    if M%6==4:\n",
    "        if a%2!=0:\n",
    "            print(M-7,' AS')\n",
    "        else:\n",
    "            print(M+5,' AS')"
   ]
  },
  {
   "cell_type": "code",
   "execution_count": 1,
   "metadata": {},
   "outputs": [
    {
     "name": "stdin",
     "output_type": "stream",
     "text": [
      " zoo\n"
     ]
    },
    {
     "name": "stdout",
     "output_type": "stream",
     "text": [
      "Yes\n"
     ]
    }
   ],
   "source": [
    "#Zoos Problem\n",
    "\n",
    "# print(ord('z'-122))\n",
    "# print(ord('o'-111))    \n",
    "\n",
    "N = input()\n",
    "if chr(122) in N:\n",
    "    ls=[i for i in N if i==chr(122)]\n",
    "    a=len(ls)\n",
    "if chr(111) in N:\n",
    "    ls1=[i for i in N if i==chr(111)]\n",
    "    b=len(ls1)\n",
    "    \n",
    "if b==2*a:\n",
    "    print('Yes')\n",
    "else:\n",
    "    print('No')"
   ]
  },
  {
   "cell_type": "code",
   "execution_count": 1,
   "metadata": {},
   "outputs": [
    {
     "data": {
      "text/plain": [
       "2"
      ]
     },
     "execution_count": 1,
     "metadata": {},
     "output_type": "execute_result"
    }
   ],
   "source": [
    "2"
   ]
  },
  {
   "cell_type": "code",
   "execution_count": 18,
   "metadata": {},
   "outputs": [
    {
     "name": "stdin",
     "output_type": "stream",
     "text": [
      " 2\n",
      " abc\n",
      " cde\n",
      " ghi\n",
      " ijk\n"
     ]
    },
    {
     "name": "stdout",
     "output_type": "stream",
     "text": [
      "['a', 'b', 'c'] ['c', 'd', 'e']\n",
      "['a', 'b'] ['d', 'e']\n",
      "['c'] ['c']\n",
      "2 4\n",
      "['g', 'h', 'i'] ['i', 'j', 'k']\n",
      "['g', 'h'] ['j', 'k']\n",
      "['i'] ['i']\n",
      "2 4\n"
     ]
    }
   ],
   "source": [
    "#Anagrams Problem\n",
    "\n",
    "N = int(input())\n",
    "ls,ls1=[],[]\n",
    "for i in range(N):\n",
    "    ls.append(input())\n",
    "    ls1.append(input())\n",
    "\n",
    "for i in range(len(ls)):\n",
    "    fls=ls[i]\n",
    "    gls=ls1[i]\n",
    "# for i in range(len(ls)):\n",
    "#     ls=ls[i]\n",
    "# for i in range(len(ls1)):\n",
    "#     ls1=ls1[i]\n",
    "    def anagram(fls,gls):\n",
    "        \n",
    "        strlist=[k for k in str(fls)]\n",
    "        str2list = [l for l in str(gls)]\n",
    "        print(strlist,str2list)\n",
    "        \n",
    "        newlist = [strlist[i] for i in range(len(strlist)) if strlist[i] not in str2list]\n",
    "        oldlist = [strlist[i] for i in range(len(strlist)) if strlist[i] in str2list]\n",
    "        new2list = [str2list[i] for i in range(len(str2list)) if str2list[i] not in strlist]\n",
    "        old2list = [str2list[i] for i in range(len(str2list)) if str2list[i] in strlist]\n",
    "        print(newlist,new2list)\n",
    "        print(oldlist,old2list)\n",
    "        if oldlist<old2list:\n",
    "            wholelen = 2*len(oldlist)\n",
    "        else:\n",
    "            wholelen = 2*len(old2list)\n",
    "            \n",
    "        alllen=(len(strlist+str2list))-(wholelen)\n",
    "        \n",
    "        print(wholelen,alllen)\n",
    "    anagram(fls,gls)\n",
    "#     continue"
   ]
  },
  {
   "cell_type": "code",
   "execution_count": 4,
   "metadata": {},
   "outputs": [
    {
     "name": "stdin",
     "output_type": "stream",
     "text": [
      " 2\n",
      " abc\n",
      " cde\n"
     ]
    },
    {
     "name": "stdout",
     "output_type": "stream",
     "text": [
      "4\n"
     ]
    },
    {
     "name": "stdin",
     "output_type": "stream",
     "text": [
      " nash\n",
      " snyt\n"
     ]
    },
    {
     "name": "stdout",
     "output_type": "stream",
     "text": [
      "4\n"
     ]
    }
   ],
   "source": [
    "# Anagrams Problems Correct\n",
    "t=int(input())\n",
    "for _ in range(t):\n",
    "    s1=list(input())\n",
    "    s2=list(input())\n",
    "    s1.sort()\n",
    "    s2.sort()\n",
    "    count=0\n",
    "    for i in s1:\n",
    "        if i in s2:\n",
    "            count+=1\n",
    "            s2.remove(i)\n",
    "    print(len(s1)-count+len(s2))"
   ]
  },
  {
   "cell_type": "code",
   "execution_count": 67,
   "metadata": {},
   "outputs": [
    {
     "name": "stdin",
     "output_type": "stream",
     "text": [
      " ansh\n"
     ]
    },
    {
     "name": "stdout",
     "output_type": "stream",
     "text": [
      "NO\n"
     ]
    }
   ],
   "source": [
    "# Palindrome Problem\n",
    "\n",
    "N = input()\n",
    "flag = True\n",
    "ls=[i for i in N]\n",
    "\n",
    "halfcount = (len(ls)//2)\n",
    "\n",
    "h1 = ls[:halfcount]\n",
    "h2 = ls[halfcount:]\n",
    "\n",
    "if len(h1)==len(h2):\n",
    "    pass\n",
    "else:\n",
    "    middle = h2[0] \n",
    "    h2.remove(h2[0])\n",
    "\n",
    "for i in range(len(h1)):\n",
    "    if h1[i]==h2[-1+(-i)]:\n",
    "        flag = True\n",
    "    else:\n",
    "        flag = False\n",
    "if flag:\n",
    "    print('YES')\n",
    "else:\n",
    "    print(\"NO\")"
   ]
  },
  {
   "cell_type": "code",
   "execution_count": 5,
   "metadata": {},
   "outputs": [
    {
     "name": "stdin",
     "output_type": "stream",
     "text": [
      " 5\n",
      " 1 2 3 6 5\n"
     ]
    },
    {
     "name": "stdout",
     "output_type": "stream",
     "text": [
      "180\n"
     ]
    }
   ],
   "source": [
    "#### Find Product\n",
    "N = int(input())\n",
    "ls1=[]\n",
    "ls = [int(i) for i in input().split()]\n",
    "\n",
    "for i in range(N):\n",
    "    ls1.append(ls[i])\n",
    "\n",
    "\n",
    "temp = 1\n",
    "for i in ls1:\n",
    "    temp = (i*temp)%(10**9+7)\n",
    "print(temp)"
   ]
  },
  {
   "cell_type": "code",
   "execution_count": 1,
   "metadata": {},
   "outputs": [
    {
     "name": "stdin",
     "output_type": "stream",
     "text": [
      " 2\n",
      " 9 6\n",
      " 10\n",
      " 1 1\n",
      " 1 1\n",
      " 0 1\n",
      " 0 0\n",
      " 0 1\n",
      " 0 0\n",
      " 0 1\n",
      " 0 1\n",
      " 1 1\n",
      " 0 0\n"
     ]
    },
    {
     "name": "stdout",
     "output_type": "stream",
     "text": [
      "69\n"
     ]
    },
    {
     "name": "stdin",
     "output_type": "stream",
     "text": [
      " 1 9\n",
      " 10\n",
      " 0 1\n",
      " 0 0\n",
      " 0 0\n",
      " 0 1\n",
      " 1 0\n",
      " 0 1\n",
      " 0 1\n",
      " 0 0\n",
      " 0 1\n",
      " 0 0\n"
     ]
    },
    {
     "name": "stdout",
     "output_type": "stream",
     "text": [
      "14\n"
     ]
    }
   ],
   "source": [
    "# Cost of Balloons\n",
    "\n",
    "N = int(input())\n",
    "\n",
    "\n",
    "\n",
    "def Costballoons():\n",
    "    green, purple = input().split()  # Rate assigned to the respective balloons\n",
    "\n",
    "    participants = int(input())\n",
    "\n",
    "    probs = [list(int(x) for x in input().split()) for i in range(participants)]\n",
    "#     print(probs)\n",
    "\n",
    "\n",
    "    prob1 = [probs[i][0] for i in range(len(probs))]\n",
    "    prob2 = [probs[i][1] for i in range(len(probs))]\n",
    "\n",
    "#     print(\"prob1 : \", prob1)\n",
    "#     print(\"prob2 : \",  prob2)\n",
    "\n",
    "    totalgreen = 0\n",
    "    totalpurple = 0\n",
    "    sumtotal = []\n",
    "    for i in range(len(probs)):\n",
    "        if prob1.count(1)<prob2.count(1):\n",
    "            if int(green)<int(purple):\n",
    "                totalgreen=int(green)*prob2[i]\n",
    "                totalpurple=int(purple)*prob1[i]\n",
    "                sumtotal.append(totalgreen+totalpurple)\n",
    "            else:\n",
    "                totalgreen=int(green)*prob1[i]\n",
    "                totalpurple=int(purple)*prob2[i]\n",
    "                sumtotal.append(totalgreen+totalpurple)\n",
    "        else:\n",
    "            if int(green)<int(purple):\n",
    "                totalgreen=int(green)*prob1[i]\n",
    "                totalpurple=int(purple)*prob2[i]\n",
    "                sumtotal.append(totalgreen+totalpurple)\n",
    "            else:\n",
    "                totalgreen=int(green)*prob2[i]\n",
    "                totalpurple=int(purple)*prob1[i]\n",
    "                sumtotal.append(totalgreen+totalpurple)\n",
    "\n",
    "#     print(sumtotal)\n",
    "    total=0\n",
    "    for i in range(len(sumtotal)):\n",
    "        total+=sumtotal[i]\n",
    "    print(total)\n",
    "    \n",
    "for i in range(N):\n",
    "    Costballoons()"
   ]
  },
  {
   "cell_type": "code",
   "execution_count": 6,
   "metadata": {},
   "outputs": [
    {
     "name": "stdin",
     "output_type": "stream",
     "text": [
      " 2 10 2\n"
     ]
    },
    {
     "name": "stdout",
     "output_type": "stream",
     "text": [
      "5\n"
     ]
    }
   ],
   "source": [
    "####  Count Divisors\n",
    "l,r,k = (input().split())\n",
    "length = (int(r)+1)-int(l)\n",
    "count = 0\n",
    "for i in range(int(l),int(r)+1):\n",
    "    if i%int(k)==0:\n",
    "        count+=1\n",
    "print(count)"
   ]
  },
  {
   "cell_type": "code",
   "execution_count": 9,
   "metadata": {},
   "outputs": [
    {
     "name": "stdin",
     "output_type": "stream",
     "text": [
      " 7\n"
     ]
    },
    {
     "name": "stdout",
     "output_type": "stream",
     "text": [
      "5040\n"
     ]
    }
   ],
   "source": [
    "### Factorial!\n",
    "N = int(input())\n",
    "count=1\n",
    "for i in range(1,N+1):\n",
    "    count*=i\n",
    "print(count)"
   ]
  },
  {
   "cell_type": "code",
   "execution_count": 12,
   "metadata": {},
   "outputs": [
    {
     "name": "stdin",
     "output_type": "stream",
     "text": [
      " tHIS IS THE WORLD OF dEVIL\n"
     ]
    },
    {
     "name": "stdout",
     "output_type": "stream",
     "text": [
      "T h i s i s t h e w o r l d o f D e v i l\n"
     ]
    }
   ],
   "source": [
    "### Toggle String\n",
    "\n",
    "N = input()\n",
    "ls=[]\n",
    "for i in N:\n",
    "    if i.isupper():\n",
    "        ls.append(i.lower())\n",
    "    if i.islower():\n",
    "        ls.append(i.upper())\n",
    "string = ('').join(ls)\n",
    "\n",
    "print(string)"
   ]
  },
  {
   "cell_type": "code",
   "execution_count": 10,
   "metadata": {},
   "outputs": [
    {
     "name": "stdin",
     "output_type": "stream",
     "text": [
      " 180\n",
      " 3\n",
      " 640 480\n",
      " 120 300\n",
      " 180 180\n"
     ]
    },
    {
     "name": "stdout",
     "output_type": "stream",
     "text": [
      "[['640', '480'], ['120', '300'], ['180', '180']]\n",
      "CROP IT\n",
      "UPLOAD ANOTHER\n",
      "ACCEPTED\n"
     ]
    }
   ],
   "source": [
    "### Roy and Profile Picture\n",
    "\n",
    "mindim = (int(input()))\n",
    "N = int(input())\n",
    "ls=[]\n",
    "ls1=[]\n",
    "for i in range(N):\n",
    "    ls.append(input().split())\n",
    "for i in range(N):\n",
    "    if int(ls[i][0])<mindim or int(ls[i][1])<mindim:\n",
    "        print('UPLOAD ANOTHER')\n",
    "    elif int(ls[i][0])==int(ls[i][1]):\n",
    "        print('ACCEPTED')\n",
    "    else:\n",
    "        print('CROP IT')\n"
   ]
  },
  {
   "cell_type": "code",
   "execution_count": 25,
   "metadata": {},
   "outputs": [
    {
     "name": "stdin",
     "output_type": "stream",
     "text": [
      " 4\n",
      " H..H\n"
     ]
    },
    {
     "name": "stdout",
     "output_type": "stream",
     "text": [
      "['H', '.', '.', 'H']\n",
      ".\n",
      "['H', '.', 'H']\n",
      "[None]\n"
     ]
    }
   ],
   "source": [
    "# ### Split Houses \n",
    "#Date : 1-1-20\n",
    "\n",
    "# N = int(input())\n",
    "# location = input()\n",
    "# ls = [x for x in location]\n",
    "# print(ls)\n",
    "# ls1=[]\n",
    "# for i in ls:\n",
    "#     if i==chr(46):\n",
    "#         print(i)\n",
    "#         ls1.append(ls.remove(i))\n",
    "# print(ls)\n",
    "# print(ls1)\n",
    "            \n",
    "    ############################      PENDING     ##########################"
   ]
  },
  {
   "cell_type": "code",
   "execution_count": 29,
   "metadata": {},
   "outputs": [
    {
     "name": "stdin",
     "output_type": "stream",
     "text": [
      " LLRDDR\n"
     ]
    },
    {
     "name": "stdout",
     "output_type": "stream",
     "text": [
      "0 -2 "
     ]
    }
   ],
   "source": [
    "# ### e-maze-in\n",
    "# L = 76, R = 82 U='85' D = 68\n",
    "\n",
    "initialvalue = [0,0]\n",
    "N = input()\n",
    "\n",
    "for i in N:\n",
    "    if i==chr(76):\n",
    "        initialvalue[0]=(initialvalue[0])-1\n",
    "    elif i==chr(82):\n",
    "        initialvalue[0]=(initialvalue[0])+1\n",
    "    elif i==chr(85):\n",
    "        initialvalue[1]=(initialvalue[1]+1)\n",
    "    else:\n",
    "        initialvalue[1]=(initialvalue[1]-1)\n",
    "for i in initialvalue:\n",
    "    print(i,end=' ')\n"
   ]
  },
  {
   "cell_type": "code",
   "execution_count": 91,
   "metadata": {},
   "outputs": [
    {
     "name": "stdin",
     "output_type": "stream",
     "text": [
      " 19\n"
     ]
    },
    {
     "name": "stdout",
     "output_type": "stream",
     "text": [
      "patlu\n"
     ]
    }
   ],
   "source": [
    "#### Bricks Game\n",
    "\n",
    "N = int(input())\n",
    "motu,patlu,ls = [],[],[]\n",
    "for i in range(1,N):\n",
    "    motu.append(i)\n",
    "for j in range(1,N):\n",
    "    patlu.append(j*2)\n",
    "sum = 0\n",
    "sum2 = 0\n",
    "for i in range(N):\n",
    "    sum += motu[i]+patlu[i]\n",
    "    if i>=1:\n",
    "        sum2+=motu[i-1]+patlu[i-1]\n",
    "    if sum>=N:\n",
    "        temp = (motu[i-1]+patlu[i-1])\n",
    "        if sum2+motu[i]<N:\n",
    "            print('Motu')\n",
    "        else:\n",
    "            print('Patlu')\n",
    "        break"
   ]
  },
  {
   "cell_type": "code",
   "execution_count": 5,
   "metadata": {},
   "outputs": [
    {
     "name": "stdin",
     "output_type": "stream",
     "text": [
      " 4\n",
      " 0\n"
     ]
    },
    {
     "name": "stdout",
     "output_type": "stream",
     "text": [
      "A\n"
     ]
    },
    {
     "name": "stdin",
     "output_type": "stream",
     "text": [
      " 6\n"
     ]
    },
    {
     "name": "stdout",
     "output_type": "stream",
     "text": [
      "B\n"
     ]
    },
    {
     "name": "stdin",
     "output_type": "stream",
     "text": [
      " 4\n"
     ]
    },
    {
     "name": "stdout",
     "output_type": "stream",
     "text": [
      "B\n"
     ]
    },
    {
     "name": "stdin",
     "output_type": "stream",
     "text": [
      " 1\n"
     ]
    },
    {
     "name": "stdout",
     "output_type": "stream",
     "text": [
      "A\n"
     ]
    }
   ],
   "source": [
    "## Life queries\n",
    "\n",
    "N = int(input())\n",
    "\n",
    "liftA = 0\n",
    "liftB = 7\n",
    "for i in range(N):\n",
    "    floor = int(input())\n",
    "    if (floor-liftA)<=(liftB-floor):\n",
    "        print('A')\n",
    "        liftA=floor\n",
    "    else:\n",
    "        print('B')\n",
    "        liftB=floor\n"
   ]
  },
  {
   "cell_type": "code",
   "execution_count": 2,
   "metadata": {},
   "outputs": [
    {
     "name": "stdin",
     "output_type": "stream",
     "text": [
      " 1\n",
      " sumit mitsu\n"
     ]
    },
    {
     "name": "stdout",
     "output_type": "stream",
     "text": [
      "YES\n"
     ]
    }
   ],
   "source": [
    "### Two Strings\n",
    "\n",
    "N = int(input())\n",
    "flag = True\n",
    "for i in range(N):\n",
    "    fname,lname = [i for i in input().split()]\n",
    "\n",
    "    firstname = [i for i in fname]\n",
    "    lastname = [i for i in lname]\n",
    "    \n",
    "    firstname.sort()\n",
    "    lastname.sort()\n",
    "    \n",
    "    \n",
    "    if len(firstname)==len(lastname):\n",
    "        for i in range(len(firstname)):\n",
    "            \n",
    "            if firstname[i] != lastname[i]:\n",
    "                flag = 'NO'\n",
    "                break\n",
    "            else:\n",
    "                flag = 'YES'\n",
    "    else:\n",
    "        flag = 'NO'\n",
    "    print(flag)"
   ]
  },
  {
   "cell_type": "code",
   "execution_count": 19,
   "metadata": {},
   "outputs": [
    {
     "name": "stdin",
     "output_type": "stream",
     "text": [
      " 5\n",
      " 56 30 3 94 58\n"
     ]
    },
    {
     "name": "stdout",
     "output_type": "stream",
     "text": [
      "56 30 3 94 58 "
     ]
    }
   ],
   "source": [
    "### Print the numbers\n",
    "\n",
    "N = int(input())\n",
    "\n",
    "ls = [x for x in input().split()]\n",
    "\n",
    "for i in ls:\n",
    "    print(i,end=' ')"
   ]
  },
  {
   "cell_type": "markdown",
   "metadata": {},
   "source": [
    "## "
   ]
  },
  {
   "cell_type": "code",
   "execution_count": 13,
   "metadata": {},
   "outputs": [
    {
     "name": "stdin",
     "output_type": "stream",
     "text": [
      " 1\n",
      " 9\n"
     ]
    },
    {
     "name": "stdout",
     "output_type": "stream",
     "text": [
      "*################* \n",
      "**##############** \n",
      "***############*** \n",
      "****##########**** \n",
      "*****########***** \n",
      "******######****** \n",
      "*******####******* \n",
      "********##******** \n",
      "****************** \n"
     ]
    }
   ],
   "source": [
    "### Friend's Relationship\n",
    "\n",
    "N = int(input())\n",
    "for i in range(N):\n",
    "    pattern = int(input())\n",
    "\n",
    "    for i in range(1,pattern+1):\n",
    "        print('*'*(i)+'#'*((pattern*2)-(2*i))+'*'*(i),end=' ')\n",
    "        print()"
   ]
  },
  {
   "cell_type": "code",
   "execution_count": null,
   "metadata": {},
   "outputs": [],
   "source": []
  },
  {
   "cell_type": "code",
   "execution_count": 15,
   "metadata": {},
   "outputs": [
    {
     "name": "stdin",
     "output_type": "stream",
     "text": [
      " 13A357-22\n"
     ]
    },
    {
     "name": "stdout",
     "output_type": "stream",
     "text": [
      "invalid\n"
     ]
    }
   ],
   "source": [
    "### Ali and Helping innocent people\n",
    "\n",
    "N = input()\n",
    "ls=[i for i in N]\n",
    "lett = ['A','E','I','O','U','Y']\n",
    "if (int(ls[0])+int(ls[1]))%2==0 and (int(ls[3])+int(ls[4]))%2==0 and (int(ls[4])+int(ls[5]))%2==0 and (int(ls[7])+int(ls[8]))%2==0 and ls[2] not in lett:\n",
    "    print('valid')\n",
    "else:\n",
    "    print('invalid')\n"
   ]
  },
  {
   "cell_type": "code",
   "execution_count": 1,
   "metadata": {},
   "outputs": [
    {
     "name": "stdin",
     "output_type": "stream",
     "text": [
      " 1\n",
      " 6 50 4 20\n"
     ]
    },
    {
     "name": "stdout",
     "output_type": "stream",
     "text": [
      "-3 30\n"
     ]
    }
   ],
   "source": [
    "### Duration\n",
    "t = int(input())\n",
    "while t>0:\n",
    "    list1 = list(map(int,input().split()))\n",
    "    SH = list1[0]\n",
    "    SM = list1[1]\n",
    "    EH = list1[2]\n",
    "    EM = list1[3]\n",
    "    h_count = EH - SH\n",
    "    min_count = EM - SM\n",
    "    if min_count < 0 :\n",
    "        min_count = min_count + 60\n",
    "        h_count = h_count - 1\n",
    "        \n",
    "    print(h_count,min_count)\n",
    "    t = t - 1"
   ]
  },
  {
   "cell_type": "code",
   "execution_count": 2,
   "metadata": {},
   "outputs": [
    {
     "name": "stdin",
     "output_type": "stream",
     "text": [
      " 1234567895\n"
     ]
    },
    {
     "name": "stdout",
     "output_type": "stream",
     "text": [
      "Illegal ISBN\n"
     ]
    }
   ],
   "source": [
    "### Book Of Portion Making\n",
    "ls = (input())\n",
    "ls = [int(i) for i in ls]\n",
    "sum=0\n",
    "if len(ls)<10 or len(ls)>10:\n",
    "    print('Illegal ISBN')\n",
    "else:\n",
    "    for i in range(0,10):\n",
    "        sum+=ls[i]*(i+1)\n",
    "    if sum%11==0:\n",
    "        print('Legal ISBN')\n",
    "    else:\n",
    "        print('Illegal ISBN')"
   ]
  },
  {
   "cell_type": "code",
   "execution_count": 3,
   "metadata": {},
   "outputs": [
    {
     "name": "stdin",
     "output_type": "stream",
     "text": [
      " 6\n"
     ]
    },
    {
     "name": "stdout",
     "output_type": "stream",
     "text": [
      "YES\n"
     ]
    }
   ],
   "source": [
    "### Teddy and Tweety\n",
    "\n",
    "N = int(input())\n",
    "temp = (N//3)\n",
    "\n",
    "if N%temp==0:\n",
    "    print('YES')\n",
    "else:\n",
    "    print('NO')"
   ]
  },
  {
   "cell_type": "code",
   "execution_count": 4,
   "metadata": {},
   "outputs": [
    {
     "name": "stdin",
     "output_type": "stream",
     "text": [
      " 1\n",
      " 4 5\n"
     ]
    },
    {
     "name": "stdout",
     "output_type": "stream",
     "text": [
      "1\n"
     ]
    }
   ],
   "source": [
    "### Aman and Mr.Sharma\n",
    "\n",
    "N = int(input())\n",
    "count = 0\n",
    "for i in range(N):\n",
    "    r, x = map(int,input().split())\n",
    "    dis = 100*x\n",
    "    circum = (2*22/7)*r\n",
    "    if dis>=circum:\n",
    "        count+=1\n",
    "print(count)"
   ]
  },
  {
   "cell_type": "code",
   "execution_count": 5,
   "metadata": {},
   "outputs": [
    {
     "name": "stdin",
     "output_type": "stream",
     "text": [
      " 100 600\n"
     ]
    },
    {
     "name": "stdout",
     "output_type": "stream",
     "text": [
      "Take Medicine\n"
     ]
    }
   ],
   "source": [
    "## Doctor's Secret \n",
    "\n",
    "length, pages = map(int,input().split())\n",
    "\n",
    "if length<=23 and pages>500 or pages<1000:\n",
    "    print('Take Medicine')\n",
    "else:\n",
    "    print(\"Don't take Medicine\")"
   ]
  },
  {
   "cell_type": "code",
   "execution_count": 6,
   "metadata": {},
   "outputs": [
    {
     "name": "stdin",
     "output_type": "stream",
     "text": [
      " 1\n",
      " 45\n",
      " 52\n"
     ]
    },
    {
     "name": "stdout",
     "output_type": "stream",
     "text": [
      "YES\n"
     ]
    }
   ],
   "source": [
    "## Goki and his breakup\n",
    "\n",
    "N = int(input())\n",
    "X = int(input())\n",
    "\n",
    "for i in range(N):\n",
    "    ls = int(input())\n",
    "    if ls>=X:\n",
    "        print('YES')\n",
    "    else:\n",
    "        print('NO')\n",
    "    "
   ]
  },
  {
   "cell_type": "code",
   "execution_count": 7,
   "metadata": {},
   "outputs": [
    {
     "name": "stdin",
     "output_type": "stream",
     "text": [
      " 2\n"
     ]
    },
    {
     "name": "stdout",
     "output_type": "stream",
     "text": [
      "2\n",
      "4\n",
      "6\n",
      "8\n",
      "10\n",
      "12\n",
      "14\n",
      "16\n",
      "18\n",
      "20\n"
     ]
    }
   ],
   "source": [
    "## I am Easy\n",
    "\n",
    "N = int(input())\n",
    "for i in range(1,11):\n",
    "    print(N*i)"
   ]
  },
  {
   "cell_type": "code",
   "execution_count": 8,
   "metadata": {},
   "outputs": [
    {
     "name": "stdin",
     "output_type": "stream",
     "text": [
      " 1\n"
     ]
    },
    {
     "name": "stdout",
     "output_type": "stream",
     "text": [
      "1\n"
     ]
    },
    {
     "name": "stdin",
     "output_type": "stream",
     "text": [
      " 45\n"
     ]
    },
    {
     "name": "stdout",
     "output_type": "stream",
     "text": [
      "45\n"
     ]
    },
    {
     "name": "stdin",
     "output_type": "stream",
     "text": [
      " 99\n"
     ]
    },
    {
     "name": "stdout",
     "output_type": "stream",
     "text": [
      "99\n"
     ]
    },
    {
     "name": "stdin",
     "output_type": "stream",
     "text": [
      " 42\n"
     ]
    }
   ],
   "source": [
    "### Life, the Universe and Everything\n",
    "\n",
    "while True:\n",
    "    n = int(input())\n",
    "    if n!=42:\n",
    "        print(n)\n",
    "    elif n==42:\n",
    "        break"
   ]
  },
  {
   "cell_type": "code",
   "execution_count": null,
   "metadata": {},
   "outputs": [],
   "source": []
  }
 ],
 "metadata": {
  "kernelspec": {
   "display_name": "Python 3",
   "language": "python",
   "name": "python3"
  },
  "language_info": {
   "codemirror_mode": {
    "name": "ipython",
    "version": 3
   },
   "file_extension": ".py",
   "mimetype": "text/x-python",
   "name": "python",
   "nbconvert_exporter": "python",
   "pygments_lexer": "ipython3",
   "version": "3.7.1"
  }
 },
 "nbformat": 4,
 "nbformat_minor": 4
}
