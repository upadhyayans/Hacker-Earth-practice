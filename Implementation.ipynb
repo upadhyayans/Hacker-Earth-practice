{
 "cells": [
  {
   "cell_type": "code",
   "execution_count": 32,
   "metadata": {},
   "outputs": [
    {
     "name": "stdin",
     "output_type": "stream",
     "text": [
      " 4483 2\n"
     ]
    },
    {
     "name": "stdout",
     "output_type": "stream",
     "text": [
      "[4, 4, 8, 3]\n",
      "9983"
     ]
    }
   ],
   "source": [
    "### DIgit Problem\n",
    "N,n = [i for i in input().split()]\n",
    "ls = [int(i) for i in N]\n",
    "\n",
    "count=0\n",
    "for i in range(len(N)):\n",
    "    if int(n)==0:\n",
    "        break\n",
    "    else:\n",
    "        if ls[i]==9:\n",
    "            pass\n",
    "        else:\n",
    "            ls[i]=9\n",
    "            count+=1\n",
    "        if count==int(n):\n",
    "            break\n",
    "for i in ls:\n",
    "    print(i,end='')"
   ]
  },
  {
   "cell_type": "code",
   "execution_count": 36,
   "metadata": {},
   "outputs": [
    {
     "name": "stdin",
     "output_type": "stream",
     "text": [
      " 2\n",
      " 40 10\n"
     ]
    },
    {
     "name": "stdout",
     "output_type": "stream",
     "text": [
      "4\n"
     ]
    },
    {
     "name": "stdin",
     "output_type": "stream",
     "text": [
      " 40 20\n"
     ]
    },
    {
     "name": "stdout",
     "output_type": "stream",
     "text": [
      "2\n"
     ]
    }
   ],
   "source": [
    "### Fitting Circle\n",
    "n=int(input())\n",
    "for i in range(n):\n",
    "    m=input().split()\n",
    "    m=list(map(int,m))\n",
    "    a=min(m)\n",
    "    b=max(m)\n",
    "    if(a==b):\n",
    "        print(1)\n",
    "    else:\n",
    "        print(b//a)\n",
    " "
   ]
  },
  {
   "cell_type": "code",
   "execution_count": null,
   "metadata": {},
   "outputs": [],
   "source": []
  }
 ],
 "metadata": {
  "kernelspec": {
   "display_name": "Python 3",
   "language": "python",
   "name": "python3"
  },
  "language_info": {
   "codemirror_mode": {
    "name": "ipython",
    "version": 3
   },
   "file_extension": ".py",
   "mimetype": "text/x-python",
   "name": "python",
   "nbconvert_exporter": "python",
   "pygments_lexer": "ipython3",
   "version": "3.7.1"
  }
 },
 "nbformat": 4,
 "nbformat_minor": 4
}
